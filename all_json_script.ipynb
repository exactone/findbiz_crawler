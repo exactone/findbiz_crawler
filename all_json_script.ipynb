{
 "cells": [
  {
   "cell_type": "code",
   "execution_count": 7,
   "metadata": {
    "collapsed": false
   },
   "outputs": [
    {
     "data": {
      "text/plain": [
       "['./done_job/all_json_out_json.json@instance-10@540076',\n",
       " './done_job/all_json_out_json.json@instance-11@600123',\n",
       " './done_job/all_json_out_json.json@instance-12@660144',\n",
       " './done_job/all_json_out_json.json@instance-13@720044',\n",
       " './done_job/all_json_out_json.json@instance-14@780058',\n",
       " './done_job/all_json_out_json.json@instance-15@840134',\n",
       " './done_job/all_json_out_json.json@instance-1@358',\n",
       " './done_job/all_json_out_json.json@instance-2@60299',\n",
       " './done_job/all_json_out_json.json@instance-3@120038',\n",
       " './done_job/all_json_out_json.json@instance-4@180169',\n",
       " './done_job/all_json_out_json.json@instance-5@240157',\n",
       " './done_job/all_json_out_json.json@instance-6@300593',\n",
       " './done_job/all_json_out_json.json@instance-7@360111',\n",
       " './done_job/all_json_out_json.json@instance-8@420280',\n",
       " './done_job/all_json_out_json.json@instance-9@480065',\n",
       " './done_job/all_json_out_json.json@instance-g1@1030',\n",
       " './done_job/all_json_out_json.json@instance-g1@1586',\n",
       " './done_job/all_json_out_json.json@instance-g1@474',\n",
       " './done_job/all_json_out_json.json@instance-g2@229385',\n",
       " './done_job/all_json_out_json.json@instance-g2@229610',\n",
       " './done_job/all_json_out_json.json@instance-g2@232817',\n",
       " './done_job/all_json_out_json.json@instance-g3@458619',\n",
       " './done_job/all_json_out_json.json@instance-g3@460533',\n",
       " './done_job/all_json_out_json.json@instance-g3@463081',\n",
       " './done_job/all_json_out_json.json@instance-g4@task0-4',\n",
       " './done_job/all_json_out_json.json@instance-g4@task5-12#96']"
      ]
     },
     "execution_count": 7,
     "metadata": {},
     "output_type": "execute_result"
    }
   ],
   "source": [
    "import glob\n",
    "glob.glob('./done_job/*')\n",
    "\n"
   ]
  },
  {
   "cell_type": "code",
   "execution_count": 9,
   "metadata": {
    "collapsed": false
   },
   "outputs": [],
   "source": [
    "import glob\n",
    "glob.glob('./done_job/*')\n",
    "jobs = [ \n",
    "    './done_job/all_json_out_json.json@instance-g1@1030',\n",
    "    './done_job/all_json_out_json.json@instance-g1@1586',\n",
    "    './done_job/all_json_out_json.json@instance-g1@474',\n",
    "    './done_job/all_json_out_json.json@instance-g2@229385',\n",
    "    './done_job/all_json_out_json.json@instance-g2@229610',\n",
    "    './done_job/all_json_out_json.json@instance-g2@232817',\n",
    "    './done_job/all_json_out_json.json@instance-g3@458619',\n",
    "    './done_job/all_json_out_json.json@instance-g3@460533',\n",
    "    './done_job/all_json_out_json.json@instance-g3@463081',\n",
    "    './done_job/all_json_out_json.json@instance-g4@task0-4',\n",
    "    './done_job/all_json_out_json.json@instance-g4@task5-12#96']\n",
    "\n",
    "import datetime\n",
    "fname = 'all_json_'+str(datetime.datetime.now())+'.json'\n",
    "with open(fname, 'a') as f:\n",
    "    for j in jobs:\n",
    "        f.write(open(j, 'r').read())\n",
    "\n"
   ]
  }
 ],
 "metadata": {
  "anaconda-cloud": {},
  "kernelspec": {
   "display_name": "Python [conda env:py35]",
   "language": "python",
   "name": "conda-env-py35-py"
  },
  "language_info": {
   "codemirror_mode": {
    "name": "ipython",
    "version": 3
   },
   "file_extension": ".py",
   "mimetype": "text/x-python",
   "name": "python",
   "nbconvert_exporter": "python",
   "pygments_lexer": "ipython3",
   "version": "3.5.2"
  }
 },
 "nbformat": 4,
 "nbformat_minor": 1
}
